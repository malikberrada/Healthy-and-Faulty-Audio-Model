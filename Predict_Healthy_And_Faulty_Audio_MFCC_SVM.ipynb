{
 "cells": [
  {
   "cell_type": "markdown",
   "id": "ae66cb1a",
   "metadata": {},
   "source": [
    "This notebook contains the Healthy and Faulty audios prediction. We've worked with Librosa methods to extract the MFCC Features. Then we've predicted the audios with SVM."
   ]
  },
  {
   "cell_type": "markdown",
   "id": "e7e58a76",
   "metadata": {},
   "source": [
    "## Importing libraries"
   ]
  },
  {
   "cell_type": "code",
   "execution_count": 1,
   "id": "090ef9bf",
   "metadata": {},
   "outputs": [],
   "source": [
    "import glob\n",
    "import pandas as pd \n",
    "import math\n",
    "import secrets\n",
    "from sklearn.model_selection import train_test_split\n",
    "import numpy as np\n",
    "import librosa\n",
    "import librosa.display\n",
    "from matplotlib import pyplot as plt\n",
    "from tqdm import tqdm\n",
    "import os\n",
    "from sklearn.svm import SVC\n",
    "import pickle\n",
    "from sklearn.metrics import classification_report, confusion_matrix\n",
    "import seaborn as sns"
   ]
  },
  {
   "cell_type": "markdown",
   "id": "34f8f80a",
   "metadata": {},
   "source": [
    "## Creating an ID generator for the test set"
   ]
  },
  {
   "cell_type": "code",
   "execution_count": 2,
   "id": "04edb36d",
   "metadata": {},
   "outputs": [],
   "source": [
    "def random_alphanum(length: int) -> str:\n",
    "        text = secrets.token_hex(nbytes=math.ceil(length / 2))\n",
    "        isEven = length % 2 == 0\n",
    "        return text if isEven else text[1:]"
   ]
  },
  {
   "cell_type": "markdown",
   "id": "b2f74562",
   "metadata": {},
   "source": [
    "## Creating a training set"
   ]
  },
  {
   "cell_type": "code",
   "execution_count": 3,
   "id": "a6548511",
   "metadata": {
    "scrolled": true
   },
   "outputs": [],
   "source": [
    "# assign directory\n",
    "directory = '.\\Data'\n",
    " \n",
    "# iterate over files in\n",
    "# that directory\n",
    "dataset_dict = {\n",
    "    'relative_path' : [],\n",
    "    'classID' : [],\n",
    "    'id_file' : []\n",
    "}\n",
    "sum1 = 0\n",
    "relative_path = []\n",
    "classID = []\n",
    "id_file = []\n",
    "for filename in glob.iglob(f'{directory}/*.wav'):\n",
    "    relative_path.append(filename)\n",
    "    if (\"Faulty\" in filename):\n",
    "        classID.append(0)\n",
    "    else:\n",
    "        classID.append(1)\n",
    "for i in range(0, len(list(glob.iglob(f'{directory}/*.wav')))):\n",
    "    id_file.append(random_alphanum(6))\n",
    "dataset_dict['relative_path'] = relative_path\n",
    "dataset_dict['classID'] = classID\n",
    "dataset_dict['id_file'] = id_file"
   ]
  },
  {
   "cell_type": "code",
   "execution_count": 4,
   "id": "77c60850",
   "metadata": {},
   "outputs": [],
   "source": [
    "df_dataset = pd.DataFrame(dataset_dict, columns = ['relative_path', 'classID', 'id_file'])"
   ]
  },
  {
   "cell_type": "markdown",
   "id": "99e4fa1f",
   "metadata": {},
   "source": [
    "## Showing the Distribution of Healthy and Faulty Sounds"
   ]
  },
  {
   "cell_type": "code",
   "execution_count": 5,
   "id": "99b74632",
   "metadata": {},
   "outputs": [
    {
     "name": "stderr",
     "output_type": "stream",
     "text": [
      "C:\\Users\\berra\\anaconda3\\lib\\site-packages\\seaborn\\_decorators.py:36: FutureWarning: Pass the following variable as a keyword arg: x. From version 0.12, the only valid positional argument will be `data`, and passing other arguments without an explicit keyword will result in an error or misinterpretation.\n",
      "  warnings.warn(\n"
     ]
    },
    {
     "data": {
      "image/png": "[encoded data removed]",
      "text/plain": [
       "<Figure size 720x432 with 1 Axes>"
      ]
     },
     "metadata": {
      "needs_background": "light"
     },
     "output_type": "display_data"
    }
   ],
   "source": [
    "plt.figure(figsize=(10, 6))\n",
    "sns.countplot(df_dataset['classID'])\n",
    "plt.title(\"Count of records in each class\")\n",
    "plt.xticks(rotation=\"vertical\")\n",
    "plt.savefig(\".\\charts\\Count of records in each class.png\")\n",
    "plt.show()"
   ]
  },
  {
   "cell_type": "markdown",
   "id": "6745edc5",
   "metadata": {},
   "source": [
    "## Features Extraction"
   ]
  },
  {
   "cell_type": "code",
   "execution_count": 6,
   "id": "f0678c07",
   "metadata": {},
   "outputs": [],
   "source": [
    "def features_extractor(file):\n",
    "    #load the file (audio)\n",
    "    audio, sample_rate = librosa.load(file_name, res_type='kaiser_fast') \n",
    "    #we extract mfcc\n",
    "    mfccs_features = librosa.feature.mfcc(y=audio, sr=sample_rate, n_mfcc=40)\n",
    "    #in order to find out scaled feature we do mean of transpose of value\n",
    "    mfccs_scaled_features = np.mean(mfccs_features.T,axis=0)\n",
    "    return mfccs_scaled_features"
   ]
  },
  {
   "cell_type": "code",
   "execution_count": 7,
   "id": "bde766e2",
   "metadata": {},
   "outputs": [
    {
     "name": "stderr",
     "output_type": "stream",
     "text": [
      "30it [00:07,  4.14it/s]\n"
     ]
    }
   ],
   "source": [
    "### Now we iterate through every audio file and extract features \n",
    "### using Mel-Frequency Cepstral Coefficients\n",
    "extracted_features=[]\n",
    "for index_num,row in tqdm(df_dataset.iterrows()):\n",
    "    file_name = os.path.join(os.path.abspath(\"\"),str(row[\"relative_path\"]))\n",
    "    final_class_labels=row[\"classID\"]\n",
    "    data=features_extractor(file_name)\n",
    "    extracted_features.append([data,final_class_labels])"
   ]
  },
  {
   "cell_type": "code",
   "execution_count": 8,
   "id": "bec79fcb",
   "metadata": {},
   "outputs": [
    {
     "data": {
      "text/html": [
       "<div>\n",
       "<style scoped>\n",
       "    .dataframe tbody tr th:only-of-type {\n",
       "        vertical-align: middle;\n",
       "    }\n",
       "\n",
       "    .dataframe tbody tr th {\n",
       "        vertical-align: top;\n",
       "    }\n",
       "\n",
       "    .dataframe thead th {\n",
       "        text-align: right;\n",
       "    }\n",
       "</style>\n",
       "<table border=\"1\" class=\"dataframe\">\n",
       "  <thead>\n",
       "    <tr style=\"text-align: right;\">\n",
       "      <th></th>\n",
       "      <th>feature</th>\n",
       "      <th>class</th>\n",
       "    </tr>\n",
       "  </thead>\n",
       "  <tbody>\n",
       "    <tr>\n",
       "      <th>0</th>\n",
       "      <td>[123.34522, 105.97169, -56.81883, 43.293747, -...</td>\n",
       "      <td>0</td>\n",
       "    </tr>\n",
       "    <tr>\n",
       "      <th>1</th>\n",
       "      <td>[118.700745, 108.6886, -55.97689, 42.479702, -...</td>\n",
       "      <td>0</td>\n",
       "    </tr>\n",
       "    <tr>\n",
       "      <th>2</th>\n",
       "      <td>[115.57558, 107.75453, -53.80512, 41.020267, -...</td>\n",
       "      <td>0</td>\n",
       "    </tr>\n",
       "    <tr>\n",
       "      <th>3</th>\n",
       "      <td>[105.940796, 119.60933, -52.67761, 43.58293, -...</td>\n",
       "      <td>0</td>\n",
       "    </tr>\n",
       "    <tr>\n",
       "      <th>4</th>\n",
       "      <td>[61.87373, 125.43388, -4.3916683, 44.954285, -...</td>\n",
       "      <td>0</td>\n",
       "    </tr>\n",
       "  </tbody>\n",
       "</table>\n",
       "</div>"
      ],
      "text/plain": [
       "                                             feature  class\n",
       "0  [123.34522, 105.97169, -56.81883, 43.293747, -...      0\n",
       "1  [118.700745, 108.6886, -55.97689, 42.479702, -...      0\n",
       "2  [115.57558, 107.75453, -53.80512, 41.020267, -...      0\n",
       "3  [105.940796, 119.60933, -52.67761, 43.58293, -...      0\n",
       "4  [61.87373, 125.43388, -4.3916683, 44.954285, -...      0"
      ]
     },
     "execution_count": 8,
     "metadata": {},
     "output_type": "execute_result"
    }
   ],
   "source": [
    "### converting extracted_features to Pandas dataframe\n",
    "extracted_features_df=pd.DataFrame(extracted_features,columns=['feature','class'])\n",
    "extracted_features_df.head()"
   ]
  },
  {
   "cell_type": "markdown",
   "id": "2576466b",
   "metadata": {},
   "source": [
    "## Generating the training and in-sample test sets"
   ]
  },
  {
   "cell_type": "code",
   "execution_count": 9,
   "id": "da62efed",
   "metadata": {},
   "outputs": [],
   "source": [
    "### Split the dataset into independent and dependent dataset\n",
    "X=np.array(extracted_features_df['feature'].tolist())\n",
    "y=np.array(extracted_features_df['class'].tolist())\n",
    "# y=to_categorical(labelencoder.fit_transform(y))\n",
    "### Train Test Split\n",
    "X_train,X_test,y_train,y_test=train_test_split(X,y,test_size=0.2,random_state=0)"
   ]
  },
  {
   "cell_type": "code",
   "execution_count": 10,
   "id": "de45c426",
   "metadata": {},
   "outputs": [],
   "source": [
    "np.save(r'.\\Data\\Dataset\\X_train',X_train,allow_pickle =False)\n",
    "np.save(r'.\\Data\\Dataset\\X_test',X_test,allow_pickle =False)\n",
    "np.save(r'.\\Data\\Dataset\\y_train',y_train,allow_pickle =False)\n",
    "np.save(r'.\\Data\\Dataset\\y_test',y_test,allow_pickle =False)"
   ]
  },
  {
   "cell_type": "code",
   "execution_count": 11,
   "id": "f34a8596",
   "metadata": {},
   "outputs": [],
   "source": [
    "X_train = np.load(r'.\\Data\\Dataset\\X_train.npy')\n",
    "X_test = np.load(r'.\\Data\\Dataset\\X_test.npy')\n",
    "y_train = np.load(r'.\\Data\\Dataset\\y_train.npy')\n",
    "y_test = np.load(r'.\\Data\\Dataset\\y_test.npy')"
   ]
  },
  {
   "cell_type": "markdown",
   "id": "978b7b4b",
   "metadata": {},
   "source": [
    "## Training the SVM (Support Vector Machines) model"
   ]
  },
  {
   "cell_type": "code",
   "execution_count": 12,
   "id": "944e9a4f",
   "metadata": {},
   "outputs": [
    {
     "data": {
      "text/plain": [
       "SVC(kernel='linear')"
      ]
     },
     "execution_count": 12,
     "metadata": {},
     "output_type": "execute_result"
    }
   ],
   "source": [
    "svclassifier = SVC(kernel='linear')\n",
    "svclassifier.fit(X_train, y_train)"
   ]
  },
  {
   "cell_type": "code",
   "execution_count": 13,
   "id": "d8051590",
   "metadata": {},
   "outputs": [],
   "source": [
    "filename = '.\\Pickle\\SVM-model-Healthy-Faulty-Audios.pkl'\n",
    "pickle.dump(svclassifier,  open(filename, 'wb'))"
   ]
  },
  {
   "cell_type": "code",
   "execution_count": 14,
   "id": "c91c5b6e",
   "metadata": {},
   "outputs": [],
   "source": [
    "saved_svclassifier = pickle.load(open(filename, 'rb'))"
   ]
  },
  {
   "cell_type": "code",
   "execution_count": 15,
   "id": "1ea3af3c",
   "metadata": {},
   "outputs": [],
   "source": [
    "y_pred = saved_svclassifier.predict(X_test)"
   ]
  },
  {
   "cell_type": "code",
   "execution_count": 16,
   "id": "2667c8fc",
   "metadata": {},
   "outputs": [
    {
     "data": {
      "text/plain": [
       "array([0, 1, 0, 0, 1, 1])"
      ]
     },
     "execution_count": 16,
     "metadata": {},
     "output_type": "execute_result"
    }
   ],
   "source": [
    "y_test"
   ]
  },
  {
   "cell_type": "markdown",
   "id": "05b39c75",
   "metadata": {},
   "source": [
    "## Showing scores"
   ]
  },
  {
   "cell_type": "code",
   "execution_count": 17,
   "id": "071a5a5f",
   "metadata": {},
   "outputs": [
    {
     "name": "stdout",
     "output_type": "stream",
     "text": [
      "[[3 0]\n",
      " [0 3]]\n",
      "              precision    recall  f1-score   support\n",
      "\n",
      "           0       1.00      1.00      1.00         3\n",
      "           1       1.00      1.00      1.00         3\n",
      "\n",
      "    accuracy                           1.00         6\n",
      "   macro avg       1.00      1.00      1.00         6\n",
      "weighted avg       1.00      1.00      1.00         6\n",
      "\n"
     ]
    }
   ],
   "source": [
    "print(confusion_matrix(y_test,y_pred))\n",
    "print(classification_report(y_test,y_pred))"
   ]
  },
  {
   "cell_type": "code",
   "execution_count": 18,
   "id": "b5846852",
   "metadata": {},
   "outputs": [],
   "source": [
    "# assign directory\n",
    "directory = '.\\Test'\n",
    " \n",
    "# iterate over files in\n",
    "# that directory\n",
    "test_dict = {\n",
    "    'relative_path' : [],\n",
    "    'classID' : [],\n",
    "    'id_file' : []\n",
    "}\n",
    "sum1 = 0\n",
    "relative_path = []\n",
    "classID = []\n",
    "id_file = []\n",
    "for filename in glob.iglob(f'{directory}/*.wav'):\n",
    "    relative_path.append(filename)\n",
    "    if (\"Faulty\" in filename):\n",
    "        classID.append(0)\n",
    "    else:\n",
    "        classID.append(1)\n",
    "for i in range(0, len(list(glob.iglob(f'{directory}/*')))-1):\n",
    "    id_file.append(random_alphanum(6))\n",
    "test_dict['relative_path'] = relative_path\n",
    "test_dict['classID'] = classID\n",
    "test_dict['id_file'] = id_file"
   ]
  },
  {
   "cell_type": "code",
   "execution_count": 19,
   "id": "657d4670",
   "metadata": {},
   "outputs": [],
   "source": [
    "df_test_dataset = pd.DataFrame(test_dict, columns = ['relative_path', 'classID', 'id_file'])"
   ]
  },
  {
   "cell_type": "markdown",
   "id": "71d3403f",
   "metadata": {},
   "source": [
    "## Generating the results"
   ]
  },
  {
   "cell_type": "code",
   "execution_count": 20,
   "id": "5544b430",
   "metadata": {},
   "outputs": [
    {
     "name": "stderr",
     "output_type": "stream",
     "text": [
      "10it [00:02,  4.39it/s]\n"
     ]
    }
   ],
   "source": [
    "### Now we iterate through every audio file and extract features \n",
    "### using Mel-Frequency Cepstral Coefficients\n",
    "extracted_features_pred=[]\n",
    "for index_num,row in tqdm(df_test_dataset.iterrows()):\n",
    "    file_name = os.path.join(os.path.abspath(\"\"),str(row[\"relative_path\"]))\n",
    "    final_class_labels=row[\"classID\"]\n",
    "    relative_path=row[\"relative_path\"]\n",
    "    id_file=row[\"id_file\"]\n",
    "    data=features_extractor(file_name)\n",
    "    extracted_features_pred.append([data,final_class_labels, relative_path, id_file])"
   ]
  },
  {
   "cell_type": "code",
   "execution_count": 21,
   "id": "17e2c338",
   "metadata": {},
   "outputs": [
    {
     "data": {
      "text/html": [
       "<div>\n",
       "<style scoped>\n",
       "    .dataframe tbody tr th:only-of-type {\n",
       "        vertical-align: middle;\n",
       "    }\n",
       "\n",
       "    .dataframe tbody tr th {\n",
       "        vertical-align: top;\n",
       "    }\n",
       "\n",
       "    .dataframe thead th {\n",
       "        text-align: right;\n",
       "    }\n",
       "</style>\n",
       "<table border=\"1\" class=\"dataframe\">\n",
       "  <thead>\n",
       "    <tr style=\"text-align: right;\">\n",
       "      <th></th>\n",
       "      <th>feature</th>\n",
       "      <th>class</th>\n",
       "      <th>relative_path</th>\n",
       "      <th>id_file</th>\n",
       "    </tr>\n",
       "  </thead>\n",
       "  <tbody>\n",
       "    <tr>\n",
       "      <th>0</th>\n",
       "      <td>[118.99102, 106.128716, -51.756153, 47.227947,...</td>\n",
       "      <td>0</td>\n",
       "      <td>.\\Test\\FaultyM1S1.wav</td>\n",
       "      <td>660fb7</td>\n",
       "    </tr>\n",
       "    <tr>\n",
       "      <th>1</th>\n",
       "      <td>[49.868435, 129.25395, -25.641544, 51.80968, 2...</td>\n",
       "      <td>0</td>\n",
       "      <td>.\\Test\\FaultyM2S4.wav</td>\n",
       "      <td>d5075b</td>\n",
       "    </tr>\n",
       "    <tr>\n",
       "      <th>2</th>\n",
       "      <td>[-8.746373, 125.574135, -28.501804, 49.920425,...</td>\n",
       "      <td>0</td>\n",
       "      <td>.\\Test\\FaultyM4S1.wav</td>\n",
       "      <td>cc26ec</td>\n",
       "    </tr>\n",
       "    <tr>\n",
       "      <th>3</th>\n",
       "      <td>[1.2622161, 140.49648, -25.142649, 50.490265, ...</td>\n",
       "      <td>0</td>\n",
       "      <td>.\\Test\\FaultyM5S4.wav</td>\n",
       "      <td>102307</td>\n",
       "    </tr>\n",
       "    <tr>\n",
       "      <th>4</th>\n",
       "      <td>[3.042815, 140.26788, -25.14304, 48.45671, -4....</td>\n",
       "      <td>0</td>\n",
       "      <td>.\\Test\\FaultyM5S5.wav</td>\n",
       "      <td>fd0d71</td>\n",
       "    </tr>\n",
       "  </tbody>\n",
       "</table>\n",
       "</div>"
      ],
      "text/plain": [
       "                                             feature  class  \\\n",
       "0  [118.99102, 106.128716, -51.756153, 47.227947,...      0   \n",
       "1  [49.868435, 129.25395, -25.641544, 51.80968, 2...      0   \n",
       "2  [-8.746373, 125.574135, -28.501804, 49.920425,...      0   \n",
       "3  [1.2622161, 140.49648, -25.142649, 50.490265, ...      0   \n",
       "4  [3.042815, 140.26788, -25.14304, 48.45671, -4....      0   \n",
       "\n",
       "           relative_path id_file  \n",
       "0  .\\Test\\FaultyM1S1.wav  660fb7  \n",
       "1  .\\Test\\FaultyM2S4.wav  d5075b  \n",
       "2  .\\Test\\FaultyM4S1.wav  cc26ec  \n",
       "3  .\\Test\\FaultyM5S4.wav  102307  \n",
       "4  .\\Test\\FaultyM5S5.wav  fd0d71  "
      ]
     },
     "execution_count": 21,
     "metadata": {},
     "output_type": "execute_result"
    }
   ],
   "source": [
    "### converting extracted_features to Pandas dataframe\n",
    "pred_extracted_features_df=pd.DataFrame(extracted_features_pred,columns=['feature','class', 'relative_path', 'id_file'])\n",
    "pred_extracted_features_df.head()"
   ]
  },
  {
   "cell_type": "code",
   "execution_count": 22,
   "id": "6ec6af40",
   "metadata": {},
   "outputs": [],
   "source": [
    "X_pred=np.array(pred_extracted_features_df['feature'].tolist())"
   ]
  },
  {
   "cell_type": "code",
   "execution_count": 23,
   "id": "c1079a48",
   "metadata": {},
   "outputs": [],
   "source": [
    "y_real_pred=np.array(pred_extracted_features_df['class'].tolist())"
   ]
  },
  {
   "cell_type": "code",
   "execution_count": 24,
   "id": "7e1bb2fb",
   "metadata": {},
   "outputs": [],
   "source": [
    "y_pred_test = saved_svclassifier.predict(X_pred)"
   ]
  },
  {
   "cell_type": "code",
   "execution_count": 25,
   "id": "ec222b93",
   "metadata": {},
   "outputs": [],
   "source": [
    "pred_extracted_features_df[\"Predicted_Class\"] = y_pred_test"
   ]
  },
  {
   "cell_type": "code",
   "execution_count": 26,
   "id": "fca630f9",
   "metadata": {},
   "outputs": [],
   "source": [
    "pred_extracted_features_df = pred_extracted_features_df[['id_file', 'relative_path', 'Predicted_Class', 'class']]"
   ]
  },
  {
   "cell_type": "code",
   "execution_count": 27,
   "id": "e3f457ac",
   "metadata": {},
   "outputs": [
    {
     "data": {
      "text/html": [
       "<div>\n",
       "<style scoped>\n",
       "    .dataframe tbody tr th:only-of-type {\n",
       "        vertical-align: middle;\n",
       "    }\n",
       "\n",
       "    .dataframe tbody tr th {\n",
       "        vertical-align: top;\n",
       "    }\n",
       "\n",
       "    .dataframe thead th {\n",
       "        text-align: right;\n",
       "    }\n",
       "</style>\n",
       "<table border=\"1\" class=\"dataframe\">\n",
       "  <thead>\n",
       "    <tr style=\"text-align: right;\">\n",
       "      <th></th>\n",
       "      <th>id_file</th>\n",
       "      <th>relative_path</th>\n",
       "      <th>Predicted_Class</th>\n",
       "      <th>class</th>\n",
       "    </tr>\n",
       "  </thead>\n",
       "  <tbody>\n",
       "    <tr>\n",
       "      <th>0</th>\n",
       "      <td>660fb7</td>\n",
       "      <td>.\\Test\\FaultyM1S1.wav</td>\n",
       "      <td>0</td>\n",
       "      <td>0</td>\n",
       "    </tr>\n",
       "    <tr>\n",
       "      <th>1</th>\n",
       "      <td>d5075b</td>\n",
       "      <td>.\\Test\\FaultyM2S4.wav</td>\n",
       "      <td>0</td>\n",
       "      <td>0</td>\n",
       "    </tr>\n",
       "    <tr>\n",
       "      <th>2</th>\n",
       "      <td>cc26ec</td>\n",
       "      <td>.\\Test\\FaultyM4S1.wav</td>\n",
       "      <td>0</td>\n",
       "      <td>0</td>\n",
       "    </tr>\n",
       "    <tr>\n",
       "      <th>3</th>\n",
       "      <td>102307</td>\n",
       "      <td>.\\Test\\FaultyM5S4.wav</td>\n",
       "      <td>0</td>\n",
       "      <td>0</td>\n",
       "    </tr>\n",
       "    <tr>\n",
       "      <th>4</th>\n",
       "      <td>fd0d71</td>\n",
       "      <td>.\\Test\\FaultyM5S5.wav</td>\n",
       "      <td>0</td>\n",
       "      <td>0</td>\n",
       "    </tr>\n",
       "    <tr>\n",
       "      <th>5</th>\n",
       "      <td>f154e3</td>\n",
       "      <td>.\\Test\\HealthyM6S1.wav</td>\n",
       "      <td>1</td>\n",
       "      <td>1</td>\n",
       "    </tr>\n",
       "    <tr>\n",
       "      <th>6</th>\n",
       "      <td>1a4ddf</td>\n",
       "      <td>.\\Test\\HealthyM6S5.wav</td>\n",
       "      <td>1</td>\n",
       "      <td>1</td>\n",
       "    </tr>\n",
       "    <tr>\n",
       "      <th>7</th>\n",
       "      <td>e5c720</td>\n",
       "      <td>.\\Test\\HealthyM7S5.wav</td>\n",
       "      <td>1</td>\n",
       "      <td>1</td>\n",
       "    </tr>\n",
       "    <tr>\n",
       "      <th>8</th>\n",
       "      <td>faac32</td>\n",
       "      <td>.\\Test\\HealthyM8S10.wav</td>\n",
       "      <td>1</td>\n",
       "      <td>1</td>\n",
       "    </tr>\n",
       "    <tr>\n",
       "      <th>9</th>\n",
       "      <td>fba452</td>\n",
       "      <td>.\\Test\\HealthyM8S9.wav</td>\n",
       "      <td>1</td>\n",
       "      <td>1</td>\n",
       "    </tr>\n",
       "  </tbody>\n",
       "</table>\n",
       "</div>"
      ],
      "text/plain": [
       "  id_file            relative_path  Predicted_Class  class\n",
       "0  660fb7    .\\Test\\FaultyM1S1.wav                0      0\n",
       "1  d5075b    .\\Test\\FaultyM2S4.wav                0      0\n",
       "2  cc26ec    .\\Test\\FaultyM4S1.wav                0      0\n",
       "3  102307    .\\Test\\FaultyM5S4.wav                0      0\n",
       "4  fd0d71    .\\Test\\FaultyM5S5.wav                0      0\n",
       "5  f154e3   .\\Test\\HealthyM6S1.wav                1      1\n",
       "6  1a4ddf   .\\Test\\HealthyM6S5.wav                1      1\n",
       "7  e5c720   .\\Test\\HealthyM7S5.wav                1      1\n",
       "8  faac32  .\\Test\\HealthyM8S10.wav                1      1\n",
       "9  fba452   .\\Test\\HealthyM8S9.wav                1      1"
      ]
     },
     "execution_count": 27,
     "metadata": {},
     "output_type": "execute_result"
    }
   ],
   "source": [
    "pred_extracted_features_df"
   ]
  },
  {
   "cell_type": "code",
   "execution_count": 44,
   "id": "5914bb02",
   "metadata": {},
   "outputs": [],
   "source": [
    "pred_extracted_features_df.to_csv(r\".\\results\\Results-of-the-Healthy-and-Faulty-sounds-prediction.csv\", sep=\",\", index=False)"
   ]
  },
  {
   "cell_type": "code",
   "execution_count": null,
   "id": "e0ad6215",
   "metadata": {},
   "outputs": [],
   "source": []
  }
 ],
 "metadata": {
  "kernelspec": {
   "display_name": "Python 3 (ipykernel)",
   "language": "python",
   "name": "python3"
  },
  "language_info": {
   "codemirror_mode": {
    "name": "ipython",
    "version": 3
   },
   "file_extension": ".py",
   "mimetype": "text/x-python",
   "name": "python",
   "nbconvert_exporter": "python",
   "pygments_lexer": "ipython3",
   "version": "3.9.7"
  }
 },
 "nbformat": 4,
 "nbformat_minor": 5
}
